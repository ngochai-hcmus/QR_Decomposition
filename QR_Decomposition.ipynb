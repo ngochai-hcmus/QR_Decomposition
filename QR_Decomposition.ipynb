{
 "cells": [
  {
   "cell_type": "code",
   "execution_count": 157,
   "id": "a446e1c5",
   "metadata": {},
   "outputs": [],
   "source": [
    "import numpy as np\n",
    "#chuyển đổi ma trận thành các vector u\n",
    "def convertToU(A):\n",
    "    U = np.zeros((len(A[0]), len(A)))\n",
    "    for i in range(len(A[0])):\n",
    "        for j in range(len(A)):\n",
    "            U[i][j] = A[j][i]\n",
    "    \n",
    "    return U"
   ]
  },
  {
   "cell_type": "code",
   "execution_count": 158,
   "id": "6a00933c",
   "metadata": {},
   "outputs": [],
   "source": [
    "#hàm trả về tích vô hướng của 2 vector x, y\n",
    "def tichVoHuong(x,y): \n",
    "    t = 0\n",
    "    for i in range(len(x)):\n",
    "        t = t + x[i]*y[i]        \n",
    "    return round(t,2)"
   ]
  },
  {
   "cell_type": "code",
   "execution_count": 159,
   "id": "1eb875f9",
   "metadata": {},
   "outputs": [],
   "source": [
    "import math\n",
    "#hàm trả về độ dài của vector v\n",
    "def doDai(v):\n",
    "    res = 0\n",
    "    for i in v:\n",
    "        res = res + (i*i)\n",
    "    \n",
    "    return math.sqrt(res)"
   ]
  },
  {
   "cell_type": "code",
   "execution_count": 160,
   "id": "b192b44c",
   "metadata": {},
   "outputs": [],
   "source": [
    "#hàm trả về bình phương độ dài của vector v\n",
    "def binhPhuongDoDai(v):\n",
    "    res = 0\n",
    "    for i in v:\n",
    "        res = res + (i*i)\n",
    "    \n",
    "    return res"
   ]
  },
  {
   "cell_type": "code",
   "execution_count": 161,
   "id": "6e251685",
   "metadata": {},
   "outputs": [],
   "source": [
    "#nhân hằng số k cho vector x\n",
    "def mul_scalar_vector(k, x):\n",
    "    y = []\n",
    "    for num in x:\n",
    "        num *= k\n",
    "        y.append(round(num, 2))\n",
    "    return y "
   ]
  },
  {
   "cell_type": "code",
   "execution_count": 162,
   "id": "62edd667",
   "metadata": {},
   "outputs": [],
   "source": [
    "#phân rã ma trận A = Q.R\n",
    "def phanRa(A):\n",
    "    U = convertToU(A)\n",
    "    \n",
    "    V = np.zeros((len(U), len(U[0])))\n",
    "    for i in range(len(U)):\n",
    "        V[i] = U[i]\n",
    "        for j in range(0,i):\n",
    "            temp = tichVoHuong(U[i],V[j])/binhPhuongDoDai(V[j])\n",
    "            V[i] = V[i] - mul_scalar_vector(temp,V[j])\n",
    "        \n",
    "    Q = np.zeros((len(U), len(U[0])))\n",
    "    for i in range(len(Q)):\n",
    "        temp = 1/doDai(V[i])\n",
    "        Q[i] = mul_scalar_vector(temp,V[i])\n",
    "      \n",
    "    R = np.zeros((len(Q), len(U)))\n",
    "    for i in range(len(R)):\n",
    "        for j in range(len(R[0])):\n",
    "            if i > j:\n",
    "                R[i][j] = 0\n",
    "            else:\n",
    "                R[i][j] = tichVoHuong(Q[i],U[j])\n",
    "      \n",
    "    return Q, R"
   ]
  },
  {
   "cell_type": "code",
   "execution_count": null,
   "id": "73b29aec",
   "metadata": {},
   "outputs": [],
   "source": [
    "A = [[1,1,2],[2,-1,1],[-2,4,1]]\n",
    "Q, R = phanRa(A)\n",
    "Q = convertToU(Q)\n",
    "print(\"\\nMa trận Q: \\n\",Q)\n",
    "print(\"\\nMa trận R: \\n\",R)"
   ]
  }
 ],
 "metadata": {
  "kernelspec": {
   "display_name": "Python 3 (ipykernel)",
   "language": "python",
   "name": "python3"
  },
  "language_info": {
   "codemirror_mode": {
    "name": "ipython",
    "version": 3
   },
   "file_extension": ".py",
   "mimetype": "text/x-python",
   "name": "python",
   "nbconvert_exporter": "python",
   "pygments_lexer": "ipython3",
   "version": "3.9.12"
  }
 },
 "nbformat": 4,
 "nbformat_minor": 5
}
